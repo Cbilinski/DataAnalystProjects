{
 "cells": [
  {
   "cell_type": "markdown",
   "id": "162d8221-522d-4bb2-a42a-a34ed3ac6f3a",
   "metadata": {},
   "source": [
    "# Hello world attempt"
   ]
  },
  {
   "cell_type": "markdown",
   "id": "6ff9d3af-088b-413a-87e7-62aba42be6bd",
   "metadata": {},
   "source": [
    "## Installation of required packages"
   ]
  },
  {
   "cell_type": "code",
   "execution_count": 10,
   "id": "b14d69a0-e93f-4079-b112-29414c4d1493",
   "metadata": {
    "scrolled": true
   },
   "outputs": [
    {
     "ename": "SyntaxError",
     "evalue": "invalid syntax (1449779802.py, line 3)",
     "output_type": "error",
     "traceback": [
      "\u001b[1;36m  Cell \u001b[1;32mIn[10], line 3\u001b[1;36m\u001b[0m\n\u001b[1;33m    pip install diffusers\u001b[0m\n\u001b[1;37m        ^\u001b[0m\n\u001b[1;31mSyntaxError\u001b[0m\u001b[1;31m:\u001b[0m invalid syntax\n"
     ]
    }
   ],
   "source": [
    "!pip install --upgrade diffusers accelerate transformers"
   ]
  },
  {
   "cell_type": "markdown",
   "id": "89470f32-6333-4ea5-917e-32f837d05476",
   "metadata": {},
   "source": [
    "## Accessing the pre-trained model"
   ]
  },
  {
   "cell_type": "code",
   "execution_count": 9,
   "id": "004c62c4-5d3f-4b92-8345-d11beb1ea3f6",
   "metadata": {},
   "outputs": [
    {
     "ename": "ModuleNotFoundError",
     "evalue": "No module named 'diffusers'",
     "output_type": "error",
     "traceback": [
      "\u001b[1;31m---------------------------------------------------------------------------\u001b[0m",
      "\u001b[1;31mModuleNotFoundError\u001b[0m                       Traceback (most recent call last)",
      "Cell \u001b[1;32mIn[9], line 1\u001b[0m\n\u001b[1;32m----> 1\u001b[0m \u001b[38;5;28;01mfrom\u001b[39;00m \u001b[38;5;21;01mdiffusers\u001b[39;00m \u001b[38;5;28;01mimport\u001b[39;00m DiffusionPipeline\n",
      "\u001b[1;31mModuleNotFoundError\u001b[0m: No module named 'diffusers'"
     ]
    }
   ],
   "source": [
    "from diffusers import DiffusionPipeline"
   ]
  },
  {
   "cell_type": "code",
   "execution_count": null,
   "id": "b6935d6c-5890-4b48-b87e-57f817bdc9ba",
   "metadata": {
    "scrolled": true
   },
   "outputs": [],
   "source": [
    "pipeline = DiffusionPipeline.from_pretrained(\"runwayml/stable-diffusion-v1-5\", use_safetensors=True)"
   ]
  },
  {
   "cell_type": "code",
   "execution_count": null,
   "id": "63096842-a6ec-48eb-8961-930b318089f0",
   "metadata": {
    "scrolled": true
   },
   "outputs": [],
   "source": [
    "pipeline"
   ]
  },
  {
   "cell_type": "markdown",
   "id": "b8cd1318-44e5-4c1a-865d-97f700af6195",
   "metadata": {},
   "source": [
    "## Accessing the GPU"
   ]
  },
  {
   "cell_type": "code",
   "execution_count": null,
   "id": "d4256d7d-22fd-4233-b44a-e85197bb7390",
   "metadata": {
    "scrolled": true
   },
   "outputs": [],
   "source": [
    "pipeline.to(\"cuda\")"
   ]
  },
  {
   "cell_type": "markdown",
   "id": "11d53d04-e5c7-40ae-820a-662894292584",
   "metadata": {},
   "source": [
    "## Giving a text prompt and asking the model to generate an image from Gaussian noise"
   ]
  },
  {
   "cell_type": "code",
   "execution_count": null,
   "id": "8f4f6009-048c-434f-8864-ffeb68a4d4b3",
   "metadata": {
    "scrolled": true
   },
   "outputs": [],
   "source": [
    "image = pipeline(\"An image of a squirrel in Picasso style\").images[0]"
   ]
  },
  {
   "cell_type": "code",
   "execution_count": null,
   "id": "66fe1dbd-f8df-48c7-a9bd-63b76a375a6b",
   "metadata": {},
   "outputs": [],
   "source": [
    "image"
   ]
  },
  {
   "cell_type": "code",
   "execution_count": null,
   "id": "f5b29682-2afa-4e16-a7c0-a6ad4bd0d544",
   "metadata": {},
   "outputs": [],
   "source": [
    "image.save(\"image_of_squirrel_painting.png\")"
   ]
  },
  {
   "cell_type": "markdown",
   "id": "e6f589bd-3d69-4ecc-b0bd-ebc4a81d376a",
   "metadata": {},
   "source": [
    "## Using a different scheduler"
   ]
  },
  {
   "cell_type": "code",
   "execution_count": null,
   "id": "b3a73b08-6331-4179-8e20-a6dc62830951",
   "metadata": {},
   "outputs": [],
   "source": [
    "from diffusers import EulerDiscreteScheduler"
   ]
  },
  {
   "cell_type": "code",
   "execution_count": null,
   "id": "71ce3caf-cd8d-4c5c-a861-7f0ca8aab14b",
   "metadata": {},
   "outputs": [],
   "source": [
    "pipeline = DiffusionPipeline.from_pretrained(\"runwayml/stable-diffusion-v1-5\", use_safetensors=True)\n",
    "pipeline.scheduler = EulerDiscreteScheduler.from_config(pipeline.scheduler.config)"
   ]
  },
  {
   "cell_type": "code",
   "execution_count": null,
   "id": "864a32b7-261a-492a-9bb2-fd46973f1d7c",
   "metadata": {},
   "outputs": [],
   "source": [
    "image = pipeline(\"An image of a squirrel in Picasso style\").images[0]"
   ]
  },
  {
   "cell_type": "code",
   "execution_count": null,
   "id": "c1a0a66d-5b35-4f92-8269-c2dca2e7e884",
   "metadata": {},
   "outputs": [],
   "source": [
    "image"
   ]
  },
  {
   "cell_type": "markdown",
   "id": "a3285ce5-5b60-4635-88fa-5c913deb4121",
   "metadata": {},
   "source": [
    "## Lets explore a model trained on cat images"
   ]
  },
  {
   "cell_type": "code",
   "execution_count": null,
   "id": "e59e33ab-9988-4643-a339-b10ecf3e1b97",
   "metadata": {},
   "outputs": [],
   "source": [
    "from diffusers import UNet2DModel"
   ]
  },
  {
   "cell_type": "code",
   "execution_count": null,
   "id": "32405607-f00f-4407-9ac9-ebe11aed2eb5",
   "metadata": {},
   "outputs": [],
   "source": [
    "repo_id = \"google/ddpm-cat-256\"\n",
    "\n",
    "model = UNet2DModel.from_pretrained(repo_id, use_safetensors=True)"
   ]
  },
  {
   "cell_type": "markdown",
   "id": "83c93f32-fd4a-43f5-9026-fcf91a2780f2",
   "metadata": {},
   "source": [
    "### Model parameters"
   ]
  },
  {
   "cell_type": "code",
   "execution_count": null,
   "id": "cef6aee4-e4b2-477c-9571-145a42a8ee7b",
   "metadata": {
    "scrolled": true
   },
   "outputs": [],
   "source": [
    "model.config"
   ]
  },
  {
   "cell_type": "markdown",
   "id": "688d27b2-bdd7-4db8-812c-960840f01391",
   "metadata": {},
   "source": [
    "### Creating an image shape with random gaussian noise"
   ]
  },
  {
   "cell_type": "code",
   "execution_count": null,
   "id": "5561bcba-4023-44e6-af75-1ae265c5da89",
   "metadata": {},
   "outputs": [],
   "source": [
    "import torch\n",
    "\n",
    "torch.manual_seed(0)\n",
    "\n",
    "noisy_sample = torch.randn(1, model.config.in_channels, model.config.sample_size, model.config.sample_size)\n",
    "\n",
    "noisy_sample.shape\n",
    "torch.Size([1, 3, 256, 256])"
   ]
  },
  {
   "cell_type": "markdown",
   "id": "361b2f22-3cf9-432f-b34b-c9cdfdb1f974",
   "metadata": {},
   "source": [
    "### Inference"
   ]
  },
  {
   "cell_type": "code",
   "execution_count": null,
   "id": "ac30e29c-ca51-4288-9af5-72f1b76ec21b",
   "metadata": {},
   "outputs": [],
   "source": [
    "with torch.no_grad():\n",
    "\n",
    "    noisy_residual = model(sample=noisy_sample, timestep=2).sample"
   ]
  },
  {
   "cell_type": "markdown",
   "id": "75eabb26-d05f-4ba4-95b5-db430eff6e77",
   "metadata": {},
   "source": [
    "## Coupling a model with a scheduler"
   ]
  },
  {
   "cell_type": "markdown",
   "id": "e7c0a401-dd26-4a24-bc67-006b7aa67246",
   "metadata": {},
   "source": [
    "### Importing a scheduler"
   ]
  },
  {
   "cell_type": "code",
   "execution_count": null,
   "id": "cf70c502-83de-4fda-acc9-a8df062c8cb1",
   "metadata": {},
   "outputs": [],
   "source": [
    "from diffusers import DDPMScheduler"
   ]
  },
  {
   "cell_type": "code",
   "execution_count": null,
   "id": "ceeec078-851b-4383-9306-72ff15663fa5",
   "metadata": {
    "scrolled": true
   },
   "outputs": [],
   "source": [
    "scheduler = DDPMScheduler.from_pretrained(repo_id)\n",
    "\n",
    "scheduler"
   ]
  },
  {
   "cell_type": "markdown",
   "id": "02873c8a-9747-4212-9572-3207a2267a57",
   "metadata": {},
   "source": [
    "### Lets generate a slightly less noisy sample"
   ]
  },
  {
   "cell_type": "code",
   "execution_count": null,
   "id": "c8578f33-80bd-4db7-bac0-aa9195d1b0be",
   "metadata": {},
   "outputs": [],
   "source": [
    "less_noisy_sample = scheduler.step(model_output=noisy_residual, timestep=2, sample=noisy_sample).prev_sample"
   ]
  },
  {
   "cell_type": "code",
   "execution_count": null,
   "id": "31baa6aa-1078-4bb9-8b3d-5c0a0ef8c923",
   "metadata": {},
   "outputs": [],
   "source": [
    "less_noisy_sample.shape"
   ]
  },
  {
   "cell_type": "markdown",
   "id": "eab58d92-00b8-4eb7-810c-f56f2381bd69",
   "metadata": {},
   "source": [
    "### Visualization"
   ]
  },
  {
   "cell_type": "code",
   "execution_count": null,
   "id": "8ce8a33f-8eec-4b60-b170-cf1e2ef58f93",
   "metadata": {},
   "outputs": [],
   "source": [
    "import PIL.Image\n",
    "import numpy as np"
   ]
  },
  {
   "cell_type": "code",
   "execution_count": null,
   "id": "d28064de-caf8-4d80-9374-188ebb76c52a",
   "metadata": {},
   "outputs": [],
   "source": [
    "def display_sample(sample, i):\n",
    "    image_processed = sample.cpu().permute(0, 2, 3, 1)\n",
    "    image_processed = (image_processed + 1.0) * 127.5\n",
    "    image_processed = image_processed.numpy().astype(np.uint8)\n",
    "    image_pil = PIL.Image.fromarray(image_processed[0])\n",
    "    display(f\"Image at step {i}\")\n",
    "    display(image_pil)"
   ]
  },
  {
   "cell_type": "markdown",
   "id": "471398fd-7167-4358-a161-c1848b285eb2",
   "metadata": {},
   "source": [
    "Moving the model and noisy sample to gpu"
   ]
  },
  {
   "cell_type": "code",
   "execution_count": null,
   "id": "b06cbda6-d1f0-4cc6-906c-b9825514d0b6",
   "metadata": {
    "scrolled": true
   },
   "outputs": [],
   "source": [
    "model.to(\"cuda\")"
   ]
  },
  {
   "cell_type": "code",
   "execution_count": null,
   "id": "34a79e12-ec35-4d7d-8ba7-c22518a1e044",
   "metadata": {},
   "outputs": [],
   "source": [
    "noisy_sample = noisy_sample.to(\"cuda\")"
   ]
  },
  {
   "cell_type": "code",
   "execution_count": null,
   "id": "0c44e6cd-b9c9-4cbf-821c-af623fd11b75",
   "metadata": {},
   "outputs": [],
   "source": [
    "import tqdm"
   ]
  },
  {
   "cell_type": "code",
   "execution_count": null,
   "id": "701c4082-5aa1-4cdf-befc-504d9105f391",
   "metadata": {},
   "outputs": [],
   "source": [
    "sample = noisy_sample"
   ]
  },
  {
   "cell_type": "code",
   "execution_count": null,
   "id": "62f100db-2e91-41b2-b9d3-063c93e90851",
   "metadata": {
    "tags": []
   },
   "outputs": [],
   "source": [
    "for i, t in enumerate(tqdm.tqdm(scheduler.timesteps)):\n",
    "\n",
    "    # 1. predict noise residual\n",
    "    with torch.no_grad():\n",
    "        residual = model(sample, t).sample\n",
    "    # 2. compute less noisy image and set x_t -> x_t-1\n",
    "    sample = scheduler.step(residual, t, sample).prev_sample\n",
    "    # 3. optionally look at image\n",
    "    if (i + 1) % 50 == 0:\n",
    "        display_sample(sample, i + 1)"
   ]
  }
 ],
 "metadata": {
  "kernelspec": {
   "display_name": "Python 3 (ipykernel)",
   "language": "python",
   "name": "python3"
  },
  "language_info": {
   "codemirror_mode": {
    "name": "ipython",
    "version": 3
   },
   "file_extension": ".py",
   "mimetype": "text/x-python",
   "name": "python",
   "nbconvert_exporter": "python",
   "pygments_lexer": "ipython3",
   "version": "3.11.4"
  }
 },
 "nbformat": 4,
 "nbformat_minor": 5
}
